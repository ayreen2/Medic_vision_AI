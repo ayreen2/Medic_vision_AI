{
  "nbformat": 4,
  "nbformat_minor": 0,
  "metadata": {
    "colab": {
      "name": "freeze.ipynb",
      "provenance": [],
      "collapsed_sections": [],
      "authorship_tag": "ABX9TyO6oGDKADjO6qu7mP2YgXeo",
      "include_colab_link": true
    },
    "kernelspec": {
      "name": "python3",
      "display_name": "Python 3"
    },
    "language_info": {
      "name": "python"
    }
  },
  "cells": [
    {
      "cell_type": "markdown",
      "metadata": {
        "id": "view-in-github",
        "colab_type": "text"
      },
      "source": [
        "<a href=\"https://colab.research.google.com/github/C-JoGit/Medic_Vision/blob/main/freeze.ipynb\" target=\"_parent\"><img src=\"https://colab.research.google.com/assets/colab-badge.svg\" alt=\"Open In Colab\"/></a>"
      ]
    },
    {
      "cell_type": "markdown",
      "metadata": {
        "id": "bJiCtJO8R-Tw"
      },
      "source": [
        "### Please run in Google Colab"
      ]
    },
    {
      "cell_type": "code",
      "metadata": {
        "colab": {
          "base_uri": "https://localhost:8080/"
        },
        "id": "5A-ll2_uMt9F",
        "outputId": "72da3337-e9f1-4b91-d60f-da390393b9d6"
      },
      "source": [
        "from google.colab import drive\n",
        "drive.mount('/content/drive')"
      ],
      "execution_count": null,
      "outputs": [
        {
          "output_type": "stream",
          "text": [
            "Mounted at /content/drive\n"
          ],
          "name": "stdout"
        }
      ]
    },
    {
      "cell_type": "code",
      "metadata": {
        "id": "0TyEd4deQjuz"
      },
      "source": [
        "#pip install tensorflow==2.5.0"
      ],
      "execution_count": null,
      "outputs": []
    },
    {
      "cell_type": "code",
      "metadata": {
        "id": "CZn3F5j8Nf76"
      },
      "source": [
        "import pandas as pd \n",
        "import numpy as np \n",
        "import matplotlib.pyplot as plt \n",
        "from matplotlib.image import imread \n",
        "import seaborn as sns\n",
        "import glob\n",
        "import cv2\n",
        "\n",
        "from tensorflow.keras.preprocessing.image import load_img, img_to_array, ImageDataGenerator\n",
        "from tensorflow.keras.utils import to_categorical\n",
        "from tensorflow.keras.models import Sequential, Model\n",
        "from tensorflow.keras.layers import Conv2D, MaxPooling2D, Dense, Flatten, BatchNormalization\n",
        "from tensorflow.keras.optimizers import SGD\n",
        "\n",
        "from sklearn.preprocessing import LabelEncoder\n",
        "from sklearn.model_selection import GridSearchCV, RandomizedSearchCV\n",
        "from sklearn.metrics import confusion_matrix, accuracy_score\n",
        "from sklearn.ensemble import RandomForestClassifier\n",
        "\n",
        "from shutil import copyfile\n",
        "from random import seed, random\n",
        "\n",
        "import sys\n",
        "import os\n",
        "from os import walk"
      ],
      "execution_count": null,
      "outputs": []
    },
    {
      "cell_type": "code",
      "metadata": {
        "colab": {
          "base_uri": "https://localhost:8080/",
          "height": 632
        },
        "id": "2elqV7JxMY1s",
        "outputId": "27971ca4-a014-4843-d99b-ffdd55727c40"
      },
      "source": [
        "import tensorflow as tf\n",
        "from tensorflow import keras\n",
        "from tensorflow.python.framework.convert_to_constants import convert_variables_to_constants_v2\n",
        "import numpy as np\n",
        "#path of the directory where you want to save your model\n",
        "frozen_out_path = '/content/drive/MyDrive'\n",
        "# name of the .pb file\n",
        "frozen_graph_filename = 'frozen_graph'\n",
        "\n",
        "#INSERT MODEL HERE\n",
        "\n",
        "model = Sequential()\n",
        "model.add(Conv2D(32, (3, 3), activation='relu', kernel_initializer='he_uniform', padding='same', input_shape=(300, 300, 3)))\n",
        "model.add(MaxPooling2D((2, 2)))\n",
        "model.add(Flatten())\n",
        "model.add(Dense(128, activation='relu', kernel_initializer='he_uniform'))\n",
        "model.add(Dense(1, activation='sigmoid'))\n",
        "\n",
        "# compile model\n",
        "opt = SGD(lr=0.001, momentum=0.9)\n",
        "model.compile(optimizer=opt, loss='binary_crossentropy', metrics=['accuracy'])\n",
        "# Convert Keras model to ConcreteFunction\n",
        "full_model = tf.function(lambda x: model(x))\n",
        "full_model = full_model.get_concrete_function(\n",
        "    tf.TensorSpec(model.inputs[0].shape, model.inputs[0].dtype))\n",
        "# Get frozen ConcreteFunction\n",
        "frozen_func = convert_variables_to_constants_v2(full_model)\n",
        "frozen_func.graph.as_graph_def()\n",
        "layers = [op.name for op in frozen_func.graph.get_operations()]\n",
        "print(\"-\" * 60)\n",
        "print(\"Frozen model layers: \")\n",
        "for layer in layers:\n",
        "    print(layer)\n",
        "print(\"-\" * 60)\n",
        "print(\"Frozen model inputs: \")\n",
        "print(frozen_func.inputs)\n",
        "print(\"Frozen model outputs: \")\n",
        "print(frozen_func.outputs)\n",
        "# Save frozen graph to disk\n",
        "tf.io.write_graph(graph_or_graph_def=frozen_func.graph,\n",
        "                  logdir=frozen_out_path,\n",
        "                  name=f\"{frozen_graph_filename}.pb\",\n",
        "                  as_text=False)\n",
        "# Save its text representation\n",
        "tf.io.write_graph(graph_or_graph_def=frozen_func.graph,\n",
        "                  logdir=frozen_out_path,\n",
        "                  name=f\"{frozen_graph_filename}.pbtxt\",\n",
        "                  as_text=True)"
      ],
      "execution_count": null,
      "outputs": [
        {
          "output_type": "stream",
          "text": [
            "/usr/local/lib/python3.7/dist-packages/tensorflow/python/keras/optimizer_v2/optimizer_v2.py:375: UserWarning: The `lr` argument is deprecated, use `learning_rate` instead.\n",
            "  \"The `lr` argument is deprecated, use `learning_rate` instead.\")\n"
          ],
          "name": "stderr"
        },
        {
          "output_type": "stream",
          "text": [
            "------------------------------------------------------------\n",
            "Frozen model layers: \n",
            "x\n",
            "sequential/conv2d/Conv2D/ReadVariableOp/resource\n",
            "sequential/conv2d/Conv2D/ReadVariableOp\n",
            "sequential/conv2d/Conv2D\n",
            "sequential/conv2d/BiasAdd/ReadVariableOp/resource\n",
            "sequential/conv2d/BiasAdd/ReadVariableOp\n",
            "sequential/conv2d/BiasAdd\n",
            "sequential/conv2d/Relu\n",
            "sequential/max_pooling2d/MaxPool\n",
            "sequential/flatten/Const\n",
            "sequential/flatten/Reshape\n",
            "sequential/dense/MatMul/ReadVariableOp/resource\n",
            "sequential/dense/MatMul/ReadVariableOp\n",
            "sequential/dense/MatMul\n",
            "sequential/dense/BiasAdd/ReadVariableOp/resource\n",
            "sequential/dense/BiasAdd/ReadVariableOp\n",
            "sequential/dense/BiasAdd\n",
            "sequential/dense/Relu\n",
            "sequential/dense_1/MatMul/ReadVariableOp/resource\n",
            "sequential/dense_1/MatMul/ReadVariableOp\n",
            "sequential/dense_1/MatMul\n",
            "sequential/dense_1/BiasAdd/ReadVariableOp/resource\n",
            "sequential/dense_1/BiasAdd/ReadVariableOp\n",
            "sequential/dense_1/BiasAdd\n",
            "sequential/dense_1/Sigmoid\n",
            "Identity\n",
            "------------------------------------------------------------\n",
            "Frozen model inputs: \n",
            "[<tf.Tensor 'x:0' shape=(None, 300, 300, 3) dtype=float32>]\n",
            "Frozen model outputs: \n",
            "[<tf.Tensor 'Identity:0' shape=(None, 1) dtype=float32>]\n"
          ],
          "name": "stdout"
        },
        {
          "output_type": "execute_result",
          "data": {
            "application/vnd.google.colaboratory.intrinsic+json": {
              "type": "string"
            },
            "text/plain": [
              "'/content/drive/MyDrive/frozen_graph.pbtxt'"
            ]
          },
          "metadata": {
            "tags": []
          },
          "execution_count": 6
        }
      ]
    }
  ]
}